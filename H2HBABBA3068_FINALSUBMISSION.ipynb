{
 "cells": [
  {
   "cell_type": "markdown",
   "id": "d7fcd5b0",
   "metadata": {},
   "source": [
    "# Importing the Libraries"
   ]
  },
  {
   "cell_type": "code",
   "execution_count": 168,
   "id": "a98c6932",
   "metadata": {},
   "outputs": [],
   "source": [
    "import pandas as pd\n",
    "import numpy as np\n",
    "import matplotlib.pyplot as plt\n",
    "import seaborn as sns\n",
    "import datetime\n",
    "from sklearn.model_selection import train_test_split\n",
    "from sklearn.preprocessing import OneHotEncoder,LabelEncoder\n",
    "import warnings\n",
    "warnings.filterwarnings(\"ignore\")"
   ]
  },
  {
   "cell_type": "markdown",
   "id": "5f794f72",
   "metadata": {},
   "source": [
    "# Importing dataset"
   ]
  },
  {
   "cell_type": "code",
   "execution_count": 169,
   "id": "a0a0d389",
   "metadata": {},
   "outputs": [
    {
     "name": "stdout",
     "output_type": "stream",
     "text": [
      "Data is successfully imported\n"
     ]
    }
   ],
   "source": [
    "adv = pd.read_csv(r'C:\\Users\\ADMIN\\Desktop\\DATASET.csv')\n",
    "print(\"Data is successfully imported\")"
   ]
  },
  {
   "cell_type": "code",
   "execution_count": 170,
   "id": "f6e7d9dc",
   "metadata": {},
   "outputs": [
    {
     "data": {
      "text/plain": [
       "(50000, 19)"
      ]
     },
     "execution_count": 170,
     "metadata": {},
     "output_type": "execute_result"
    }
   ],
   "source": [
    "#printing the shape of the dataset,i.e, number of rows and columns\n",
    "adv.shape"
   ]
  },
  {
   "cell_type": "code",
   "execution_count": 171,
   "id": "e32d81db",
   "metadata": {},
   "outputs": [
    {
     "data": {
      "text/html": [
       "<div>\n",
       "<style scoped>\n",
       "    .dataframe tbody tr th:only-of-type {\n",
       "        vertical-align: middle;\n",
       "    }\n",
       "\n",
       "    .dataframe tbody tr th {\n",
       "        vertical-align: top;\n",
       "    }\n",
       "\n",
       "    .dataframe thead th {\n",
       "        text-align: right;\n",
       "    }\n",
       "</style>\n",
       "<table border=\"1\" class=\"dataframe\">\n",
       "  <thead>\n",
       "    <tr style=\"text-align: right;\">\n",
       "      <th></th>\n",
       "      <th>business_code</th>\n",
       "      <th>cust_number</th>\n",
       "      <th>name_customer</th>\n",
       "      <th>clear_date</th>\n",
       "      <th>buisness_year</th>\n",
       "      <th>doc_id</th>\n",
       "      <th>posting_date</th>\n",
       "      <th>document_create_date</th>\n",
       "      <th>document_create_date.1</th>\n",
       "      <th>due_in_date</th>\n",
       "      <th>invoice_currency</th>\n",
       "      <th>document type</th>\n",
       "      <th>posting_id</th>\n",
       "      <th>area_business</th>\n",
       "      <th>total_open_amount</th>\n",
       "      <th>baseline_create_date</th>\n",
       "      <th>cust_payment_terms</th>\n",
       "      <th>invoice_id</th>\n",
       "      <th>isOpen</th>\n",
       "    </tr>\n",
       "  </thead>\n",
       "  <tbody>\n",
       "    <tr>\n",
       "      <th>1</th>\n",
       "      <td>U001</td>\n",
       "      <td>0200743123</td>\n",
       "      <td>KROGER co</td>\n",
       "      <td>NaN</td>\n",
       "      <td>2020.0</td>\n",
       "      <td>1.930675e+09</td>\n",
       "      <td>2020-03-20</td>\n",
       "      <td>20200320</td>\n",
       "      <td>20200320</td>\n",
       "      <td>20200404.0</td>\n",
       "      <td>USD</td>\n",
       "      <td>RV</td>\n",
       "      <td>1.0</td>\n",
       "      <td>NaN</td>\n",
       "      <td>12901.28</td>\n",
       "      <td>20200320.0</td>\n",
       "      <td>NAA8</td>\n",
       "      <td>1.930675e+09</td>\n",
       "      <td>1</td>\n",
       "    </tr>\n",
       "    <tr>\n",
       "      <th>11</th>\n",
       "      <td>CA02</td>\n",
       "      <td>0140104409</td>\n",
       "      <td>LOB foundation</td>\n",
       "      <td>NaN</td>\n",
       "      <td>2020.0</td>\n",
       "      <td>2.960623e+09</td>\n",
       "      <td>2020-03-22</td>\n",
       "      <td>20200322</td>\n",
       "      <td>20200322</td>\n",
       "      <td>20200404.0</td>\n",
       "      <td>CAD</td>\n",
       "      <td>RV</td>\n",
       "      <td>1.0</td>\n",
       "      <td>NaN</td>\n",
       "      <td>127991.65</td>\n",
       "      <td>20200325.0</td>\n",
       "      <td>CA10</td>\n",
       "      <td>2.960623e+09</td>\n",
       "      <td>1</td>\n",
       "    </tr>\n",
       "    <tr>\n",
       "      <th>19</th>\n",
       "      <td>U001</td>\n",
       "      <td>0200769623</td>\n",
       "      <td>WAL-MAR corporation</td>\n",
       "      <td>NaN</td>\n",
       "      <td>2020.0</td>\n",
       "      <td>1.930760e+09</td>\n",
       "      <td>2020-04-09</td>\n",
       "      <td>20200407</td>\n",
       "      <td>20200409</td>\n",
       "      <td>20200424.0</td>\n",
       "      <td>USD</td>\n",
       "      <td>RV</td>\n",
       "      <td>1.0</td>\n",
       "      <td>NaN</td>\n",
       "      <td>8972.85</td>\n",
       "      <td>20200409.0</td>\n",
       "      <td>NAH4</td>\n",
       "      <td>1.930760e+09</td>\n",
       "      <td>1</td>\n",
       "    </tr>\n",
       "    <tr>\n",
       "      <th>22</th>\n",
       "      <td>U001</td>\n",
       "      <td>0200793568</td>\n",
       "      <td>SUPE</td>\n",
       "      <td>NaN</td>\n",
       "      <td>2020.0</td>\n",
       "      <td>1.930898e+09</td>\n",
       "      <td>2020-05-13</td>\n",
       "      <td>20200513</td>\n",
       "      <td>20200513</td>\n",
       "      <td>20200528.0</td>\n",
       "      <td>USD</td>\n",
       "      <td>RV</td>\n",
       "      <td>1.0</td>\n",
       "      <td>NaN</td>\n",
       "      <td>3135.35</td>\n",
       "      <td>20200513.0</td>\n",
       "      <td>NAA8</td>\n",
       "      <td>1.930898e+09</td>\n",
       "      <td>1</td>\n",
       "    </tr>\n",
       "    <tr>\n",
       "      <th>24</th>\n",
       "      <td>U001</td>\n",
       "      <td>0200707822</td>\n",
       "      <td>PUBLI llc</td>\n",
       "      <td>NaN</td>\n",
       "      <td>2020.0</td>\n",
       "      <td>1.930856e+09</td>\n",
       "      <td>2020-05-05</td>\n",
       "      <td>20200503</td>\n",
       "      <td>20200505</td>\n",
       "      <td>20200520.0</td>\n",
       "      <td>USD</td>\n",
       "      <td>RV</td>\n",
       "      <td>1.0</td>\n",
       "      <td>NaN</td>\n",
       "      <td>135999.41</td>\n",
       "      <td>20200505.0</td>\n",
       "      <td>NAA8</td>\n",
       "      <td>1.930856e+09</td>\n",
       "      <td>1</td>\n",
       "    </tr>\n",
       "  </tbody>\n",
       "</table>\n",
       "</div>"
      ],
      "text/plain": [
       "   business_code cust_number        name_customer clear_date  buisness_year  \\\n",
       "1           U001  0200743123            KROGER co        NaN         2020.0   \n",
       "11          CA02  0140104409       LOB foundation        NaN         2020.0   \n",
       "19          U001  0200769623  WAL-MAR corporation        NaN         2020.0   \n",
       "22          U001  0200793568                SUPE         NaN         2020.0   \n",
       "24          U001  0200707822            PUBLI llc        NaN         2020.0   \n",
       "\n",
       "          doc_id posting_date  document_create_date  document_create_date.1  \\\n",
       "1   1.930675e+09   2020-03-20              20200320                20200320   \n",
       "11  2.960623e+09   2020-03-22              20200322                20200322   \n",
       "19  1.930760e+09   2020-04-09              20200407                20200409   \n",
       "22  1.930898e+09   2020-05-13              20200513                20200513   \n",
       "24  1.930856e+09   2020-05-05              20200503                20200505   \n",
       "\n",
       "    due_in_date invoice_currency document type  posting_id  area_business  \\\n",
       "1    20200404.0              USD            RV         1.0            NaN   \n",
       "11   20200404.0              CAD            RV         1.0            NaN   \n",
       "19   20200424.0              USD            RV         1.0            NaN   \n",
       "22   20200528.0              USD            RV         1.0            NaN   \n",
       "24   20200520.0              USD            RV         1.0            NaN   \n",
       "\n",
       "    total_open_amount  baseline_create_date cust_payment_terms    invoice_id  \\\n",
       "1            12901.28            20200320.0               NAA8  1.930675e+09   \n",
       "11          127991.65            20200325.0               CA10  2.960623e+09   \n",
       "19            8972.85            20200409.0               NAH4  1.930760e+09   \n",
       "22            3135.35            20200513.0               NAA8  1.930898e+09   \n",
       "24          135999.41            20200505.0               NAA8  1.930856e+09   \n",
       "\n",
       "    isOpen  \n",
       "1        1  \n",
       "11       1  \n",
       "19       1  \n",
       "22       1  \n",
       "24       1  "
      ]
     },
     "execution_count": 171,
     "metadata": {},
     "output_type": "execute_result"
    }
   ],
   "source": [
    "t=adv[adv['clear_date'].isnull()]\n",
    "t.head()"
   ]
  },
  {
   "cell_type": "code",
   "execution_count": 172,
   "id": "bc8c417e",
   "metadata": {},
   "outputs": [],
   "source": [
    "dtf=adv[~adv['clear_date'].isnull()]"
   ]
  },
  {
   "cell_type": "code",
   "execution_count": 173,
   "id": "53a8148f",
   "metadata": {},
   "outputs": [
    {
     "data": {
      "text/html": [
       "<div>\n",
       "<style scoped>\n",
       "    .dataframe tbody tr th:only-of-type {\n",
       "        vertical-align: middle;\n",
       "    }\n",
       "\n",
       "    .dataframe tbody tr th {\n",
       "        vertical-align: top;\n",
       "    }\n",
       "\n",
       "    .dataframe thead th {\n",
       "        text-align: right;\n",
       "    }\n",
       "</style>\n",
       "<table border=\"1\" class=\"dataframe\">\n",
       "  <thead>\n",
       "    <tr style=\"text-align: right;\">\n",
       "      <th></th>\n",
       "      <th>business_code</th>\n",
       "      <th>cust_number</th>\n",
       "      <th>name_customer</th>\n",
       "      <th>clear_date</th>\n",
       "      <th>buisness_year</th>\n",
       "      <th>doc_id</th>\n",
       "      <th>posting_date</th>\n",
       "      <th>document_create_date</th>\n",
       "      <th>document_create_date.1</th>\n",
       "      <th>due_in_date</th>\n",
       "      <th>invoice_currency</th>\n",
       "      <th>document type</th>\n",
       "      <th>posting_id</th>\n",
       "      <th>area_business</th>\n",
       "      <th>total_open_amount</th>\n",
       "      <th>baseline_create_date</th>\n",
       "      <th>cust_payment_terms</th>\n",
       "      <th>invoice_id</th>\n",
       "      <th>isOpen</th>\n",
       "    </tr>\n",
       "  </thead>\n",
       "  <tbody>\n",
       "    <tr>\n",
       "      <th>0</th>\n",
       "      <td>U001</td>\n",
       "      <td>0200792734</td>\n",
       "      <td>MDV/ foundation</td>\n",
       "      <td>2019-04-24 00:00:00</td>\n",
       "      <td>2019.0</td>\n",
       "      <td>1.929116e+09</td>\n",
       "      <td>2019-04-10</td>\n",
       "      <td>20190410</td>\n",
       "      <td>20190410</td>\n",
       "      <td>20190425.0</td>\n",
       "      <td>USD</td>\n",
       "      <td>RV</td>\n",
       "      <td>1.0</td>\n",
       "      <td>NaN</td>\n",
       "      <td>40457.06</td>\n",
       "      <td>20190410.0</td>\n",
       "      <td>NAA8</td>\n",
       "      <td>1.929116e+09</td>\n",
       "      <td>0</td>\n",
       "    </tr>\n",
       "    <tr>\n",
       "      <th>2</th>\n",
       "      <td>U001</td>\n",
       "      <td>0200561861</td>\n",
       "      <td>CO</td>\n",
       "      <td>2019-03-29 00:00:00</td>\n",
       "      <td>2019.0</td>\n",
       "      <td>1.928954e+09</td>\n",
       "      <td>2019-03-15</td>\n",
       "      <td>20190312</td>\n",
       "      <td>20190315</td>\n",
       "      <td>20190330.0</td>\n",
       "      <td>USD</td>\n",
       "      <td>RV</td>\n",
       "      <td>1.0</td>\n",
       "      <td>NaN</td>\n",
       "      <td>29386.60</td>\n",
       "      <td>20190315.0</td>\n",
       "      <td>NAA8</td>\n",
       "      <td>1.928954e+09</td>\n",
       "      <td>0</td>\n",
       "    </tr>\n",
       "    <tr>\n",
       "      <th>3</th>\n",
       "      <td>U001</td>\n",
       "      <td>0200729290</td>\n",
       "      <td>KROGER</td>\n",
       "      <td>2019-03-25 00:00:00</td>\n",
       "      <td>2019.0</td>\n",
       "      <td>1.928926e+09</td>\n",
       "      <td>2019-03-08</td>\n",
       "      <td>20190308</td>\n",
       "      <td>20190308</td>\n",
       "      <td>20190323.0</td>\n",
       "      <td>USD</td>\n",
       "      <td>RV</td>\n",
       "      <td>1.0</td>\n",
       "      <td>NaN</td>\n",
       "      <td>57149.53</td>\n",
       "      <td>20190308.0</td>\n",
       "      <td>NAA8</td>\n",
       "      <td>1.928926e+09</td>\n",
       "      <td>0</td>\n",
       "    </tr>\n",
       "    <tr>\n",
       "      <th>4</th>\n",
       "      <td>U001</td>\n",
       "      <td>200718130</td>\n",
       "      <td>SYSCO F corp</td>\n",
       "      <td>2019-07-17 00:00:00</td>\n",
       "      <td>2019.0</td>\n",
       "      <td>1.929527e+09</td>\n",
       "      <td>2019-06-26</td>\n",
       "      <td>20190621</td>\n",
       "      <td>20190626</td>\n",
       "      <td>20190716.0</td>\n",
       "      <td>USD</td>\n",
       "      <td>RV</td>\n",
       "      <td>1.0</td>\n",
       "      <td>NaN</td>\n",
       "      <td>15937.92</td>\n",
       "      <td>20190626.0</td>\n",
       "      <td>NAD1</td>\n",
       "      <td>1.929527e+09</td>\n",
       "      <td>0</td>\n",
       "    </tr>\n",
       "    <tr>\n",
       "      <th>5</th>\n",
       "      <td>U001</td>\n",
       "      <td>0200769623</td>\n",
       "      <td>WAL-MAR foundation</td>\n",
       "      <td>2019-11-19 00:00:00</td>\n",
       "      <td>2019.0</td>\n",
       "      <td>1.930130e+09</td>\n",
       "      <td>2019-11-09</td>\n",
       "      <td>20191108</td>\n",
       "      <td>20191109</td>\n",
       "      <td>20191124.0</td>\n",
       "      <td>USD</td>\n",
       "      <td>RV</td>\n",
       "      <td>1.0</td>\n",
       "      <td>NaN</td>\n",
       "      <td>24976.51</td>\n",
       "      <td>20191109.0</td>\n",
       "      <td>NAH4</td>\n",
       "      <td>1.930130e+09</td>\n",
       "      <td>0</td>\n",
       "    </tr>\n",
       "  </tbody>\n",
       "</table>\n",
       "</div>"
      ],
      "text/plain": [
       "  business_code cust_number       name_customer           clear_date  \\\n",
       "0          U001  0200792734     MDV/ foundation  2019-04-24 00:00:00   \n",
       "2          U001  0200561861                 CO   2019-03-29 00:00:00   \n",
       "3          U001  0200729290             KROGER   2019-03-25 00:00:00   \n",
       "4          U001   200718130        SYSCO F corp  2019-07-17 00:00:00   \n",
       "5          U001  0200769623  WAL-MAR foundation  2019-11-19 00:00:00   \n",
       "\n",
       "   buisness_year        doc_id posting_date  document_create_date  \\\n",
       "0         2019.0  1.929116e+09   2019-04-10              20190410   \n",
       "2         2019.0  1.928954e+09   2019-03-15              20190312   \n",
       "3         2019.0  1.928926e+09   2019-03-08              20190308   \n",
       "4         2019.0  1.929527e+09   2019-06-26              20190621   \n",
       "5         2019.0  1.930130e+09   2019-11-09              20191108   \n",
       "\n",
       "   document_create_date.1  due_in_date invoice_currency document type  \\\n",
       "0                20190410   20190425.0              USD            RV   \n",
       "2                20190315   20190330.0              USD            RV   \n",
       "3                20190308   20190323.0              USD            RV   \n",
       "4                20190626   20190716.0              USD            RV   \n",
       "5                20191109   20191124.0              USD            RV   \n",
       "\n",
       "   posting_id  area_business  total_open_amount  baseline_create_date  \\\n",
       "0         1.0            NaN           40457.06            20190410.0   \n",
       "2         1.0            NaN           29386.60            20190315.0   \n",
       "3         1.0            NaN           57149.53            20190308.0   \n",
       "4         1.0            NaN           15937.92            20190626.0   \n",
       "5         1.0            NaN           24976.51            20191109.0   \n",
       "\n",
       "  cust_payment_terms    invoice_id  isOpen  \n",
       "0               NAA8  1.929116e+09       0  \n",
       "2               NAA8  1.928954e+09       0  \n",
       "3               NAA8  1.928926e+09       0  \n",
       "4               NAD1  1.929527e+09       0  \n",
       "5               NAH4  1.930130e+09       0  "
      ]
     },
     "execution_count": 173,
     "metadata": {},
     "output_type": "execute_result"
    }
   ],
   "source": [
    "# Now printing the first 5 records.\n",
    "dtf.head()"
   ]
  },
  {
   "cell_type": "code",
   "execution_count": 174,
   "id": "17448e8d",
   "metadata": {},
   "outputs": [
    {
     "data": {
      "text/plain": [
       "business_code                 0\n",
       "cust_number                   0\n",
       "name_customer                 0\n",
       "clear_date                    0\n",
       "buisness_year                 0\n",
       "doc_id                        0\n",
       "posting_date                  0\n",
       "document_create_date          0\n",
       "document_create_date.1        0\n",
       "due_in_date                   0\n",
       "invoice_currency              0\n",
       "document type                 0\n",
       "posting_id                    0\n",
       "area_business             40000\n",
       "total_open_amount             0\n",
       "baseline_create_date          0\n",
       "cust_payment_terms            0\n",
       "invoice_id                    2\n",
       "isOpen                        0\n",
       "dtype: int64"
      ]
     },
     "execution_count": 174,
     "metadata": {},
     "output_type": "execute_result"
    }
   ],
   "source": [
    "dtf.isnull().sum()"
   ]
  },
  {
   "cell_type": "code",
   "execution_count": 175,
   "id": "0c35a25d",
   "metadata": {},
   "outputs": [
    {
     "data": {
      "text/plain": [
       "business_code                 6\n",
       "cust_number                1340\n",
       "name_customer              3850\n",
       "clear_date                  402\n",
       "buisness_year                 2\n",
       "doc_id                    39121\n",
       "posting_date                422\n",
       "document_create_date        427\n",
       "document_create_date.1      423\n",
       "due_in_date                 494\n",
       "invoice_currency              2\n",
       "document type                 2\n",
       "posting_id                    1\n",
       "area_business                 0\n",
       "total_open_amount         35721\n",
       "baseline_create_date        428\n",
       "cust_payment_terms           73\n",
       "invoice_id                39119\n",
       "isOpen                        1\n",
       "dtype: int64"
      ]
     },
     "execution_count": 175,
     "metadata": {},
     "output_type": "execute_result"
    }
   ],
   "source": [
    "dtf.nunique()"
   ]
  },
  {
   "cell_type": "markdown",
   "id": "a38b05ce",
   "metadata": {},
   "source": [
    "# DATA PRE PROCESSING "
   ]
  },
  {
   "cell_type": "markdown",
   "id": "d7c30a3d",
   "metadata": {},
   "source": [
    "## REMOVING THE CONSTANT COLUMNS"
   ]
  },
  {
   "cell_type": "code",
   "execution_count": 176,
   "id": "3e893184",
   "metadata": {},
   "outputs": [
    {
     "name": "stdout",
     "output_type": "stream",
     "text": [
      "['posting_id', 'isOpen']\n"
     ]
    },
    {
     "data": {
      "text/plain": [
       "Index(['business_code', 'cust_number', 'name_customer', 'clear_date',\n",
       "       'buisness_year', 'doc_id', 'posting_date', 'document_create_date',\n",
       "       'document_create_date.1', 'due_in_date', 'invoice_currency',\n",
       "       'document type', 'area_business', 'total_open_amount',\n",
       "       'baseline_create_date', 'cust_payment_terms', 'invoice_id'],\n",
       "      dtype='object')"
      ]
     },
     "execution_count": 176,
     "metadata": {},
     "output_type": "execute_result"
    }
   ],
   "source": [
    "unq_columns= [x for x in dtf.columns if dtf[x].nunique()==1] \n",
    "print(unq_columns)\n",
    "dtf.drop(unq_columns, axis=1,inplace=True) \n",
    "dtf.columns"
   ]
  },
  {
   "cell_type": "code",
   "execution_count": 177,
   "id": "7613968d",
   "metadata": {},
   "outputs": [],
   "source": [
    "# dropping duplicate values\n",
    "dtf = dtf.drop_duplicates()"
   ]
  },
  {
   "cell_type": "code",
   "execution_count": 178,
   "id": "df50b585",
   "metadata": {},
   "outputs": [
    {
     "data": {
      "text/html": [
       "<div>\n",
       "<style scoped>\n",
       "    .dataframe tbody tr th:only-of-type {\n",
       "        vertical-align: middle;\n",
       "    }\n",
       "\n",
       "    .dataframe tbody tr th {\n",
       "        vertical-align: top;\n",
       "    }\n",
       "\n",
       "    .dataframe thead th {\n",
       "        text-align: right;\n",
       "    }\n",
       "</style>\n",
       "<table border=\"1\" class=\"dataframe\">\n",
       "  <thead>\n",
       "    <tr style=\"text-align: right;\">\n",
       "      <th></th>\n",
       "      <th>buisness_year</th>\n",
       "      <th>doc_id</th>\n",
       "      <th>document_create_date</th>\n",
       "      <th>document_create_date.1</th>\n",
       "      <th>due_in_date</th>\n",
       "      <th>area_business</th>\n",
       "      <th>total_open_amount</th>\n",
       "      <th>baseline_create_date</th>\n",
       "      <th>invoice_id</th>\n",
       "    </tr>\n",
       "  </thead>\n",
       "  <tbody>\n",
       "    <tr>\n",
       "      <th>count</th>\n",
       "      <td>39121.000000</td>\n",
       "      <td>3.912100e+04</td>\n",
       "      <td>3.912100e+04</td>\n",
       "      <td>3.912100e+04</td>\n",
       "      <td>3.912100e+04</td>\n",
       "      <td>0.0</td>\n",
       "      <td>39121.000000</td>\n",
       "      <td>3.912100e+04</td>\n",
       "      <td>3.911900e+04</td>\n",
       "    </tr>\n",
       "    <tr>\n",
       "      <th>mean</th>\n",
       "      <td>2019.129470</td>\n",
       "      <td>2.013726e+09</td>\n",
       "      <td>2.019177e+07</td>\n",
       "      <td>2.019180e+07</td>\n",
       "      <td>2.019197e+07</td>\n",
       "      <td>NaN</td>\n",
       "      <td>32321.586117</td>\n",
       "      <td>2.019180e+07</td>\n",
       "      <td>2.013343e+09</td>\n",
       "    </tr>\n",
       "    <tr>\n",
       "      <th>std</th>\n",
       "      <td>0.335724</td>\n",
       "      <td>2.849605e+08</td>\n",
       "      <td>3.233665e+03</td>\n",
       "      <td>3.217791e+03</td>\n",
       "      <td>3.257132e+03</td>\n",
       "      <td>NaN</td>\n",
       "      <td>39779.168230</td>\n",
       "      <td>3.218920e+03</td>\n",
       "      <td>2.798948e+08</td>\n",
       "    </tr>\n",
       "    <tr>\n",
       "      <th>min</th>\n",
       "      <td>2019.000000</td>\n",
       "      <td>1.928502e+09</td>\n",
       "      <td>2.018123e+07</td>\n",
       "      <td>2.018102e+07</td>\n",
       "      <td>2.018110e+07</td>\n",
       "      <td>NaN</td>\n",
       "      <td>0.120000</td>\n",
       "      <td>2.018102e+07</td>\n",
       "      <td>1.928502e+09</td>\n",
       "    </tr>\n",
       "    <tr>\n",
       "      <th>25%</th>\n",
       "      <td>2019.000000</td>\n",
       "      <td>1.929181e+09</td>\n",
       "      <td>2.019041e+07</td>\n",
       "      <td>2.019041e+07</td>\n",
       "      <td>2.019043e+07</td>\n",
       "      <td>NaN</td>\n",
       "      <td>4821.600000</td>\n",
       "      <td>2.019041e+07</td>\n",
       "      <td>1.929181e+09</td>\n",
       "    </tr>\n",
       "    <tr>\n",
       "      <th>50%</th>\n",
       "      <td>2019.000000</td>\n",
       "      <td>1.929732e+09</td>\n",
       "      <td>2.019072e+07</td>\n",
       "      <td>2.019072e+07</td>\n",
       "      <td>2.019081e+07</td>\n",
       "      <td>NaN</td>\n",
       "      <td>17460.000000</td>\n",
       "      <td>2.019072e+07</td>\n",
       "      <td>1.929732e+09</td>\n",
       "    </tr>\n",
       "    <tr>\n",
       "      <th>75%</th>\n",
       "      <td>2019.000000</td>\n",
       "      <td>1.930205e+09</td>\n",
       "      <td>2.019103e+07</td>\n",
       "      <td>2.019103e+07</td>\n",
       "      <td>2.019111e+07</td>\n",
       "      <td>NaN</td>\n",
       "      <td>46713.470000</td>\n",
       "      <td>2.019103e+07</td>\n",
       "      <td>1.930205e+09</td>\n",
       "    </tr>\n",
       "    <tr>\n",
       "      <th>max</th>\n",
       "      <td>2020.000000</td>\n",
       "      <td>9.500000e+09</td>\n",
       "      <td>2.020023e+07</td>\n",
       "      <td>2.020023e+07</td>\n",
       "      <td>2.020061e+07</td>\n",
       "      <td>NaN</td>\n",
       "      <td>436972.430000</td>\n",
       "      <td>2.020030e+07</td>\n",
       "      <td>2.960617e+09</td>\n",
       "    </tr>\n",
       "  </tbody>\n",
       "</table>\n",
       "</div>"
      ],
      "text/plain": [
       "       buisness_year        doc_id  document_create_date  \\\n",
       "count   39121.000000  3.912100e+04          3.912100e+04   \n",
       "mean     2019.129470  2.013726e+09          2.019177e+07   \n",
       "std         0.335724  2.849605e+08          3.233665e+03   \n",
       "min      2019.000000  1.928502e+09          2.018123e+07   \n",
       "25%      2019.000000  1.929181e+09          2.019041e+07   \n",
       "50%      2019.000000  1.929732e+09          2.019072e+07   \n",
       "75%      2019.000000  1.930205e+09          2.019103e+07   \n",
       "max      2020.000000  9.500000e+09          2.020023e+07   \n",
       "\n",
       "       document_create_date.1   due_in_date  area_business  total_open_amount  \\\n",
       "count            3.912100e+04  3.912100e+04            0.0       39121.000000   \n",
       "mean             2.019180e+07  2.019197e+07            NaN       32321.586117   \n",
       "std              3.217791e+03  3.257132e+03            NaN       39779.168230   \n",
       "min              2.018102e+07  2.018110e+07            NaN           0.120000   \n",
       "25%              2.019041e+07  2.019043e+07            NaN        4821.600000   \n",
       "50%              2.019072e+07  2.019081e+07            NaN       17460.000000   \n",
       "75%              2.019103e+07  2.019111e+07            NaN       46713.470000   \n",
       "max              2.020023e+07  2.020061e+07            NaN      436972.430000   \n",
       "\n",
       "       baseline_create_date    invoice_id  \n",
       "count          3.912100e+04  3.911900e+04  \n",
       "mean           2.019180e+07  2.013343e+09  \n",
       "std            3.218920e+03  2.798948e+08  \n",
       "min            2.018102e+07  1.928502e+09  \n",
       "25%            2.019041e+07  1.929181e+09  \n",
       "50%            2.019072e+07  1.929732e+09  \n",
       "75%            2.019103e+07  1.930205e+09  \n",
       "max            2.020030e+07  2.960617e+09  "
      ]
     },
     "execution_count": 178,
     "metadata": {},
     "output_type": "execute_result"
    }
   ],
   "source": [
    "dtf.describe()"
   ]
  },
  {
   "cell_type": "markdown",
   "id": "542dd776",
   "metadata": {},
   "source": [
    "## CHANGING TO DATETIME FORMAT"
   ]
  },
  {
   "cell_type": "code",
   "execution_count": 179,
   "id": "b57f738e",
   "metadata": {},
   "outputs": [],
   "source": [
    "dtf['clear_date']=pd.to_datetime(dtf['clear_date'])\n",
    "dtf['due_in_date'] =  pd.to_datetime(dtf['due_in_date'], format = '%Y%m%d')\n",
    "dtf['document_create_date.1'] =  pd.to_datetime(dtf['document_create_date.1'], format = '%Y%m%d')\n",
    "dtf['document_create_date'] =  pd.to_datetime(dtf['document_create_date'], format = '%Y%m%d')\n",
    "dtf['posting_date']=pd.to_datetime(dtf['posting_date'])\n",
    "dtf['baseline_create_date']=pd.to_datetime(dtf['baseline_create_date'], format = '%Y%m%d')"
   ]
  },
  {
   "cell_type": "markdown",
   "id": "2555ea25",
   "metadata": {},
   "source": [
    "CALCULATION OF DELAY VALUE"
   ]
  },
  {
   "cell_type": "code",
   "execution_count": 180,
   "id": "0ae4d754",
   "metadata": {},
   "outputs": [],
   "source": [
    "dtf['delay']=dtf['clear_date']-dtf['due_in_date']"
   ]
  },
  {
   "cell_type": "code",
   "execution_count": 181,
   "id": "5eb2e954",
   "metadata": {},
   "outputs": [
    {
     "data": {
      "text/plain": [
       "<AxesSubplot:xlabel='delay', ylabel='Density'>"
      ]
     },
     "execution_count": 181,
     "metadata": {},
     "output_type": "execute_result"
    },
    {
     "data": {
      "image/png": "[encoded data removed]",
      "text/plain": [
       "<Figure size 432x288 with 1 Axes>"
      ]
     },
     "metadata": {
      "needs_background": "light"
     },
     "output_type": "display_data"
    }
   ],
   "source": [
    "sns.distplot(dtf['delay'])\n",
    "#Right skewed distribution plot of delay"
   ]
  },
  {
   "cell_type": "markdown",
   "id": "5644c149",
   "metadata": {},
   "source": [
    "REMOVING OUTLIERS"
   ]
  },
  {
   "cell_type": "code",
   "execution_count": 182,
   "id": "d777020f",
   "metadata": {},
   "outputs": [],
   "source": [
    "factor=3\n",
    "upper_limit=dtf['delay'].mean()+dtf['delay'].std()*factor\n",
    "lower_limit=dtf['delay'].mean()-dtf['delay'].std()*factor\n",
    "dtf=dtf[(dtf['delay']<upper_limit)&(dtf['delay']>lower_limit)]"
   ]
  },
  {
   "cell_type": "code",
   "execution_count": 183,
   "id": "44943e75",
   "metadata": {},
   "outputs": [],
   "source": [
    "factor=3\n",
    "upper_limit=dtf['total_open_amount'].mean()+dtf['total_open_amount'].std()*factor\n",
    "lower_limit=dtf['total_open_amount'].mean()-dtf['total_open_amount'].std()*factor\n",
    "dtf=dtf[(dtf['total_open_amount']<upper_limit)&(dtf['total_open_amount']>lower_limit)]"
   ]
  },
  {
   "cell_type": "markdown",
   "id": "e9ce3142",
   "metadata": {},
   "source": [
    "CHECKING FOR CORRELATION"
   ]
  },
  {
   "cell_type": "code",
   "execution_count": 184,
   "id": "0fc9f0b7",
   "metadata": {},
   "outputs": [
    {
     "name": "stdout",
     "output_type": "stream",
     "text": [
      "                   buisness_year    doc_id  area_business  total_open_amount  \\\n",
      "buisness_year           1.000000 -0.011288            NaN           0.010863   \n",
      "doc_id                 -0.011288  1.000000            NaN           0.079065   \n",
      "area_business                NaN       NaN            NaN                NaN   \n",
      "total_open_amount       0.010863  0.079065            NaN           1.000000   \n",
      "invoice_id             -0.011288  1.000000            NaN           0.079065   \n",
      "\n",
      "                   invoice_id  \n",
      "buisness_year       -0.011288  \n",
      "doc_id               1.000000  \n",
      "area_business             NaN  \n",
      "total_open_amount    0.079065  \n",
      "invoice_id           1.000000  \n"
     ]
    }
   ],
   "source": [
    "correlation_dtf=dtf.corr()\n",
    "print(correlation_dtf)"
   ]
  },
  {
   "cell_type": "markdown",
   "id": "4600a079",
   "metadata": {},
   "source": [
    "DROPPING ALL THE COLUMNS HAVING CORRELATION VALUE MORE THAN 0.95"
   ]
  },
  {
   "cell_type": "code",
   "execution_count": 185,
   "id": "6d0f1033",
   "metadata": {},
   "outputs": [],
   "source": [
    "dtf.drop(['invoice_id','doc_id','document type','area_business','document_create_date'], axis=1, inplace=True)"
   ]
  },
  {
   "cell_type": "code",
   "execution_count": 186,
   "id": "b0503c55",
   "metadata": {},
   "outputs": [
    {
     "data": {
      "text/plain": [
       "business_code             0\n",
       "cust_number               0\n",
       "name_customer             0\n",
       "clear_date                0\n",
       "buisness_year             0\n",
       "posting_date              0\n",
       "document_create_date.1    0\n",
       "due_in_date               0\n",
       "invoice_currency          0\n",
       "total_open_amount         0\n",
       "baseline_create_date      0\n",
       "cust_payment_terms        0\n",
       "delay                     0\n",
       "dtype: int64"
      ]
     },
     "execution_count": 186,
     "metadata": {},
     "output_type": "execute_result"
    }
   ],
   "source": [
    "# checking the number of missing data\n",
    "dtf.isnull().sum()"
   ]
  },
  {
   "cell_type": "code",
   "execution_count": 187,
   "id": "af86d4ad",
   "metadata": {},
   "outputs": [
    {
     "data": {
      "text/plain": [
       "business_code                      object\n",
       "cust_number                        object\n",
       "name_customer                      object\n",
       "clear_date                 datetime64[ns]\n",
       "buisness_year                     float64\n",
       "posting_date               datetime64[ns]\n",
       "document_create_date.1     datetime64[ns]\n",
       "due_in_date                datetime64[ns]\n",
       "invoice_currency                   object\n",
       "total_open_amount                 float64\n",
       "baseline_create_date       datetime64[ns]\n",
       "cust_payment_terms                 object\n",
       "delay                     timedelta64[ns]\n",
       "dtype: object"
      ]
     },
     "execution_count": 187,
     "metadata": {},
     "output_type": "execute_result"
    }
   ],
   "source": [
    "dtf.dtypes"
   ]
  },
  {
   "cell_type": "markdown",
   "id": "5acba98b",
   "metadata": {},
   "source": [
    "SORTING ON THE BASIS OF POSTING DATE"
   ]
  },
  {
   "cell_type": "code",
   "execution_count": 188,
   "id": "3313e31e",
   "metadata": {},
   "outputs": [],
   "source": [
    "dtf.sort_values('posting_date',inplace=True)"
   ]
  },
  {
   "cell_type": "code",
   "execution_count": 189,
   "id": "9c42d7de",
   "metadata": {},
   "outputs": [],
   "source": [
    "dtf['delay']=dtf['delay'].dt.days"
   ]
  },
  {
   "cell_type": "markdown",
   "id": "fd5641b8",
   "metadata": {},
   "source": [
    "### PERFORMING LABEL ENCODING"
   ]
  },
  {
   "cell_type": "code",
   "execution_count": 190,
   "id": "ebc84a87",
   "metadata": {},
   "outputs": [],
   "source": [
    "from sklearn.preprocessing import LabelEncoder\n",
    "Business_encoder = LabelEncoder()\n",
    "Business_encoder.fit(dtf['business_code'])\n",
    "dtf['business_code_enc'] = Business_encoder.transform(dtf['business_code'])\n",
    "Custnum_encoder = LabelEncoder()\n",
    "Custnum_encoder.fit(dtf['cust_number'])\n",
    "dtf['cust_number_enc'] = Custnum_encoder.transform(dtf['cust_number'])\n",
    "Custname_encoder = LabelEncoder()\n",
    "Custname_encoder.fit(dtf['name_customer'])\n",
    "dtf['name_customer_enc'] = Custname_encoder.transform(dtf['name_customer'])\n",
    "Custname_pay_encoder = LabelEncoder()\n",
    "Custname_pay_encoder.fit(dtf['cust_payment_terms'])\n",
    "dtf['cust_payment_terms_enc'] = Custname_pay_encoder.transform(dtf['cust_payment_terms'])"
   ]
  },
  {
   "cell_type": "code",
   "execution_count": 191,
   "id": "10900e7c",
   "metadata": {},
   "outputs": [],
   "source": [
    "dtf.drop(['name_customer','business_code','cust_number','invoice_currency'],axis=1,inplace=True)"
   ]
  },
  {
   "cell_type": "markdown",
   "id": "d3c25dba",
   "metadata": {},
   "source": [
    "## SPLITTING INTO TRAIN,VALIDATION AND TEST SET"
   ]
  },
  {
   "cell_type": "code",
   "execution_count": 192,
   "id": "6edcb8e0",
   "metadata": {},
   "outputs": [],
   "source": [
    "# X has dataframe and no delay\n",
    "X = dtf.drop('delay',axis=1)\n",
    "# only target value is present in y \n",
    "y = dtf['delay']"
   ]
  },
  {
   "cell_type": "code",
   "execution_count": 193,
   "id": "c73bfd31",
   "metadata": {},
   "outputs": [],
   "source": [
    "# Data is splitted into 2 parts,70:30 split and 30% is fed to the intermediate test dataset\n",
    "from sklearn.model_selection import train_test_split\n",
    "X_train,X_inter_test,y_train,y_inter_test = train_test_split(X,y,test_size=0.3,random_state=0 , shuffle = False)"
   ]
  },
  {
   "cell_type": "code",
   "execution_count": 194,
   "id": "4b474d24",
   "metadata": {},
   "outputs": [],
   "source": [
    "X_val,X_test,y_val,y_test = train_test_split(X_inter_test,y_inter_test,test_size=0.5,random_state=0 , shuffle = False)"
   ]
  },
  {
   "cell_type": "markdown",
   "id": "1e6910b6",
   "metadata": {},
   "source": [
    "## EXPLORATORY DATA ANALYSIS"
   ]
  },
  {
   "cell_type": "code",
   "execution_count": 195,
   "id": "726728a3",
   "metadata": {},
   "outputs": [
    {
     "data": {
      "text/plain": [
       "<AxesSubplot:xlabel='delay', ylabel='Density'>"
      ]
     },
     "execution_count": 195,
     "metadata": {},
     "output_type": "execute_result"
    },
    {
     "data": {
      "image/png": "[encoded data removed]",
      "text/plain": [
       "<Figure size 432x288 with 1 Axes>"
      ]
     },
     "metadata": {
      "needs_background": "light"
     },
     "output_type": "display_data"
    }
   ],
   "source": [
    "# distribution of the target column \n",
    "# Nearly normal distribution\n",
    "# outliers present but not that significant   \n",
    "sns.distplot(y_train)"
   ]
  },
  {
   "cell_type": "code",
   "execution_count": 196,
   "id": "ad1f18b9",
   "metadata": {},
   "outputs": [
    {
     "data": {
      "text/plain": [
       "<AxesSubplot:xlabel='delay', ylabel='total_open_amount'>"
      ]
     },
     "execution_count": 196,
     "metadata": {},
     "output_type": "execute_result"
    },
    {
     "data": {
      "image/png": "[encoded data removed]",
      "text/plain": [
       "<Figure size 432x288 with 1 Axes>"
      ]
     },
     "metadata": {
      "needs_background": "light"
     },
     "output_type": "display_data"
    }
   ],
   "source": [
    "sns.scatterplot(data=X_train.merge(y_train,on = X_train.index), x=\"delay\", y=\"total_open_amount\")\n",
    "# scatterplot between delay and total_open_amount"
   ]
  },
  {
   "cell_type": "code",
   "execution_count": 197,
   "id": "b7b74d75",
   "metadata": {},
   "outputs": [
    {
     "data": {
      "text/plain": [
       "<AxesSubplot:xlabel='posting_date'>"
      ]
     },
     "execution_count": 197,
     "metadata": {},
     "output_type": "execute_result"
    },
    {
     "data": {
      "image/png": "[encoded data removed]",
      "text/plain": [
       "<Figure size 432x288 with 1 Axes>"
      ]
     },
     "metadata": {
      "needs_background": "light"
     },
     "output_type": "display_data"
    }
   ],
   "source": [
    "X_train.plot.line(x=\"posting_date\",y=\"baseline_create_date\")\n",
    "#Highly correlated"
   ]
  },
  {
   "cell_type": "code",
   "execution_count": 198,
   "id": "9b9a778c",
   "metadata": {},
   "outputs": [
    {
     "data": {
      "text/plain": [
       "0.9483110351715426"
      ]
     },
     "execution_count": 198,
     "metadata": {},
     "output_type": "execute_result"
    }
   ],
   "source": [
    "X_train['posting_date'].dt.day.corr(X_train['baseline_create_date'].dt.day)"
   ]
  },
  {
   "cell_type": "code",
   "execution_count": 199,
   "id": "83513bb3",
   "metadata": {},
   "outputs": [],
   "source": [
    "#Dropping baseline_create_date since it is highly correlated with posting_date\n",
    "X_train.drop(['baseline_create_date'], axis=1, inplace=True)\n",
    "X_val.drop(['baseline_create_date'], axis=1, inplace=True)\n",
    "X_test.drop(['baseline_create_date'], axis=1, inplace=True)"
   ]
  },
  {
   "cell_type": "code",
   "execution_count": 200,
   "id": "b85f98ed",
   "metadata": {},
   "outputs": [
    {
     "data": {
      "text/plain": [
       "<AxesSubplot:xlabel='total_open_amount', ylabel='Density'>"
      ]
     },
     "execution_count": 200,
     "metadata": {},
     "output_type": "execute_result"
    },
    {
     "data": {
      "image/png": "[encoded data removed]",
      "text/plain": [
       "<Figure size 432x288 with 1 Axes>"
      ]
     },
     "metadata": {
      "needs_background": "light"
     },
     "output_type": "display_data"
    }
   ],
   "source": [
    "sns.distplot(X_train['total_open_amount'])"
   ]
  },
  {
   "cell_type": "markdown",
   "id": "da0574eb",
   "metadata": {},
   "source": [
    "## FEATURE ENGINEERING"
   ]
  },
  {
   "cell_type": "markdown",
   "id": "ae5b61ec",
   "metadata": {},
   "source": [
    "GENERATING MORE FEATURES FROM THE GIVEN DATASET"
   ]
  },
  {
   "cell_type": "code",
   "execution_count": 201,
   "id": "f767c9e3",
   "metadata": {},
   "outputs": [],
   "source": [
    "X_train['pos_day']=X_train['posting_date'].dt.day\n",
    "X_train['pos_month']=X_train['posting_date'].dt.month\n",
    "X_train['pos_year']=X_train['posting_date'].dt.year\n",
    "X_train['pos_quarter']=X_train['posting_date'].dt.quarter\n",
    "X_train['due_day']=X_train['due_in_date'].dt.day\n",
    "X_train['due_month']=X_train['due_in_date'].dt.month\n",
    "X_train['due_year']=X_train['due_in_date'].dt.year"
   ]
  },
  {
   "cell_type": "code",
   "execution_count": 202,
   "id": "d66c8683",
   "metadata": {},
   "outputs": [],
   "source": [
    "X_val['pos_day']=X_val['posting_date'].dt.day\n",
    "X_val['pos_month']=X_val['posting_date'].dt.month\n",
    "X_val['pos_year']=X_val['posting_date'].dt.year\n",
    "X_val['pos_quarter']=X_val['posting_date'].dt.quarter\n",
    "X_val['due_day']=X_val['due_in_date'].dt.day\n",
    "X_val['due_month']=X_val['due_in_date'].dt.month\n",
    "X_val['due_year']=X_val['due_in_date'].dt.year"
   ]
  },
  {
   "cell_type": "code",
   "execution_count": 203,
   "id": "8ef33998",
   "metadata": {},
   "outputs": [],
   "source": [
    "X_test['pos_day']=X_test['posting_date'].dt.day\n",
    "X_test['pos_month']=X_test['posting_date'].dt.month\n",
    "X_test['pos_year']=X_test['posting_date'].dt.year\n",
    "X_test['pos_quarter']=X_test['posting_date'].dt.quarter\n",
    "X_test['due_day']=X_test['due_in_date'].dt.day\n",
    "X_test['due_month']=X_test['due_in_date'].dt.month\n",
    "X_test['due_year']=X_test['due_in_date'].dt.year"
   ]
  },
  {
   "cell_type": "code",
   "execution_count": 204,
   "id": "4aaf84e3",
   "metadata": {},
   "outputs": [
    {
     "data": {
      "text/plain": [
       "Text(0.5, 1.0, 'Heatmap of Correlation')"
      ]
     },
     "execution_count": 204,
     "metadata": {},
     "output_type": "execute_result"
    },
    {
     "data": {
      "image/png": "[encoded data removed]",
      "text/plain": [
       "<Figure size 1080x864 with 2 Axes>"
      ]
     },
     "metadata": {
      "needs_background": "light"
     },
     "output_type": "display_data"
    }
   ],
   "source": [
    "plt.figure(figsize=(15,12))\n",
    "sns.heatmap(X_train.merge(y_train,on=X_train.index).corr(),linewidths=0.1,vmax=1,linecolor='white',square=True,annot=True)\n",
    "plt.title(\"Heatmap of Correlation\")"
   ]
  },
  {
   "cell_type": "code",
   "execution_count": 205,
   "id": "8d964c89",
   "metadata": {},
   "outputs": [],
   "source": [
    "X_train.drop(['posting_date','clear_date'],axis=1,inplace=True)\n",
    "X_val.drop(['posting_date','clear_date'],axis=1,inplace=True)\n",
    "X_test.drop(['posting_date','clear_date'],axis=1,inplace=True)"
   ]
  },
  {
   "cell_type": "code",
   "execution_count": 206,
   "id": "801b081a",
   "metadata": {},
   "outputs": [],
   "source": [
    "Due_date=X_train[\"due_in_date\"]\n",
    "\n",
    "X_train.drop(['document_create_date.1','due_in_date'],axis=1,inplace=True)\n",
    "X_val.drop(['document_create_date.1','due_in_date'],axis=1,inplace=True)\n",
    "X_test.drop(['document_create_date.1','due_in_date'],axis=1,inplace=True)\n",
    "\n",
    "X_train.drop(['name_customer_enc'],axis=1,inplace=True)\n",
    "X_val.drop(['name_customer_enc'],axis=1,inplace=True)\n",
    "X_test.drop(['name_customer_enc'],axis=1,inplace=True)\n",
    "\n",
    "X_train.drop(['business_code_enc'],axis=1,inplace=True)\n",
    "X_val.drop(['business_code_enc'],axis=1,inplace=True)\n",
    "X_test.drop(['business_code_enc'],axis=1,inplace=True)\n",
    "\n",
    "X_train.drop(['due_year'],axis=1,inplace=True)\n",
    "X_val.drop(['due_year'],axis=1,inplace=True)\n",
    "X_test.drop(['due_year'],axis=1,inplace=True)\n",
    "\n",
    "X_train.drop(['pos_quarter'],axis=1,inplace=True)\n",
    "X_val.drop(['pos_quarter'],axis=1,inplace=True)\n",
    "X_test.drop(['pos_quarter'],axis=1,inplace=True)\n",
    "\n",
    "X_train.drop(['pos_day'],axis=1,inplace=True)\n",
    "X_val.drop(['pos_day'],axis=1,inplace=True)\n",
    "X_test.drop(['pos_day'],axis=1,inplace=True)\n",
    "\n",
    "X_train.drop(['pos_month'],axis=1,inplace=True)\n",
    "X_val.drop(['pos_month'],axis=1,inplace=True)\n",
    "X_test.drop(['pos_month'],axis=1,inplace=True)\n",
    "\n",
    "X_train.drop(['due_month'],axis=1,inplace=True)\n",
    "X_val.drop(['due_month'],axis=1,inplace=True)\n",
    "X_test.drop(['due_month'],axis=1,inplace=True)\n",
    "\n",
    "X_train.drop(['cust_payment_terms'],axis=1,inplace=True)\n",
    "X_val.drop(['cust_payment_terms'],axis=1,inplace=True)\n",
    "X_test.drop(['cust_payment_terms'],axis=1,inplace=True)\n"
   ]
  },
  {
   "cell_type": "code",
   "execution_count": 207,
   "id": "52f7f490",
   "metadata": {},
   "outputs": [
    {
     "data": {
      "text/plain": [
       "buisness_year             float64\n",
       "total_open_amount         float64\n",
       "cust_number_enc             int32\n",
       "cust_payment_terms_enc      int32\n",
       "pos_year                    int64\n",
       "due_day                     int64\n",
       "dtype: object"
      ]
     },
     "execution_count": 207,
     "metadata": {},
     "output_type": "execute_result"
    }
   ],
   "source": [
    "X_train.dtypes"
   ]
  },
  {
   "cell_type": "markdown",
   "id": "14a89e4c",
   "metadata": {},
   "source": [
    "### NOW ALL THE FEATURES ARE IN INT, FLOAT SO PASSING THEM TO THE MODEL"
   ]
  },
  {
   "cell_type": "markdown",
   "id": "a0806b4e",
   "metadata": {},
   "source": [
    "# MODEL CREATION"
   ]
  },
  {
   "cell_type": "markdown",
   "id": "fbfa5b43",
   "metadata": {},
   "source": [
    "### USING BASIC MODEL OF LINEAR REGRESSION"
   ]
  },
  {
   "cell_type": "code",
   "execution_count": 208,
   "id": "7d89b03d",
   "metadata": {},
   "outputs": [],
   "source": [
    "from sklearn.linear_model import LinearRegression\n",
    "base_model = LinearRegression()\n",
    "base_model.fit(X_train, y_train)\n",
    "y_predict = base_model.predict(X_val)"
   ]
  },
  {
   "cell_type": "code",
   "execution_count": 209,
   "id": "b3997ea4",
   "metadata": {},
   "outputs": [
    {
     "data": {
      "text/plain": [
       "28.522743376687497"
      ]
     },
     "execution_count": 209,
     "metadata": {},
     "output_type": "execute_result"
    }
   ],
   "source": [
    "#CALCULATING MEAN SQUARED ERROR \n",
    "from sklearn.metrics import mean_squared_error\n",
    "mean_squared_error(y_val, y_predict)"
   ]
  },
  {
   "cell_type": "markdown",
   "id": "d31dbcd0",
   "metadata": {},
   "source": [
    "### USING DECISION TREE WITH HYPERPARAMETER TUNING"
   ]
  },
  {
   "cell_type": "code",
   "execution_count": 210,
   "id": "436e4dd5",
   "metadata": {},
   "outputs": [],
   "source": [
    "from sklearn.tree import DecisionTreeRegressor\n",
    "regressor=DecisionTreeRegressor(random_state=6,max_depth=5)\n",
    "regressor.fit(X_train,y_train)\n",
    "y_predict2=regressor.predict(X_val)"
   ]
  },
  {
   "cell_type": "code",
   "execution_count": 211,
   "id": "a4bccaea",
   "metadata": {},
   "outputs": [
    {
     "data": {
      "text/plain": [
       "19.540498610145317"
      ]
     },
     "execution_count": 211,
     "metadata": {},
     "output_type": "execute_result"
    }
   ],
   "source": [
    "#CALCULATING MEAN SQUARED ERROR \n",
    "mean_squared_error(y_val,y_predict2)"
   ]
  },
  {
   "cell_type": "code",
   "execution_count": 212,
   "id": "483b279e",
   "metadata": {},
   "outputs": [
    {
     "data": {
      "text/plain": [
       "0.33762618271678324"
      ]
     },
     "execution_count": 212,
     "metadata": {},
     "output_type": "execute_result"
    }
   ],
   "source": [
    "#CALCULATING R2 SCORE VALUE\n",
    "from sklearn.metrics import r2_score\n",
    "r2_score(y_val, y_predict2)"
   ]
  },
  {
   "cell_type": "markdown",
   "id": "375a0bb1",
   "metadata": {},
   "source": [
    "### USING RANDOM FOREST WITH HYPERPARAMETER TUNING"
   ]
  },
  {
   "cell_type": "code",
   "execution_count": 213,
   "id": "58dd6138",
   "metadata": {},
   "outputs": [
    {
     "name": "stdout",
     "output_type": "stream",
     "text": [
      "0.3502915218030389\n"
     ]
    }
   ],
   "source": [
    "from sklearn.metrics import r2_score\n",
    "from sklearn.ensemble import  RandomForestRegressor\n",
    "random=RandomForestRegressor(random_state=6,max_depth=5)\n",
    "random.fit(X_train,y_train)\n",
    "y_pred=random.predict(X_val)\n",
    "print(r2_score(y_val,y_pred))\n",
    "#CALCULATING R2 SCORE VALUE"
   ]
  },
  {
   "cell_type": "markdown",
   "id": "a5a31883",
   "metadata": {},
   "source": [
    "### USING XG BOOST WITH HYPERPARAMTER TUNING"
   ]
  },
  {
   "cell_type": "code",
   "execution_count": 214,
   "id": "adfbeb69",
   "metadata": {},
   "outputs": [
    {
     "data": {
      "text/plain": [
       "[0.44064011188345287]"
      ]
     },
     "execution_count": 214,
     "metadata": {},
     "output_type": "execute_result"
    }
   ],
   "source": [
    "import xgboost as xgb\n",
    "MSE_Score = []\n",
    "R2_Score = []\n",
    "Algorithm = []\n",
    "Algorithm.append('XGB Regressor')\n",
    "clf = xgb.XGBRegressor()\n",
    "clf.fit(X_train, y_train)\n",
    "predicted = clf.predict(X_val)\n",
    "MSE_Score.append(mean_squared_error(y_val, predicted))\n",
    "R2_Score.append(r2_score(y_val, predicted))\n",
    "R2_Score"
   ]
  },
  {
   "cell_type": "markdown",
   "id": "cc46f5e1",
   "metadata": {},
   "source": [
    "## USING XG BOOST ON TEST SET SINCE IT HAS MAXIMUM R2 SCORE VALUE"
   ]
  },
  {
   "cell_type": "code",
   "execution_count": 215,
   "id": "02eea06d",
   "metadata": {},
   "outputs": [],
   "source": [
    "clf = xgb.XGBRegressor()\n",
    "clf.fit(X_train, y_train)\n",
    "predicted = clf.predict(X_test)\n",
    "R2_Score.append(r2_score(y_test, predicted))"
   ]
  },
  {
   "cell_type": "code",
   "execution_count": 216,
   "id": "4a4eaa5e",
   "metadata": {},
   "outputs": [
    {
     "data": {
      "text/plain": [
       "0.4777754493599734"
      ]
     },
     "execution_count": 216,
     "metadata": {},
     "output_type": "execute_result"
    }
   ],
   "source": [
    "R2_Score[1]"
   ]
  },
  {
   "cell_type": "markdown",
   "id": "aeb5d7bf",
   "metadata": {},
   "source": [
    "## WORKING ON SEPARATED TEST"
   ]
  },
  {
   "cell_type": "code",
   "execution_count": 217,
   "id": "9ef7ebf0",
   "metadata": {},
   "outputs": [
    {
     "data": {
      "text/html": [
       "<div>\n",
       "<style scoped>\n",
       "    .dataframe tbody tr th:only-of-type {\n",
       "        vertical-align: middle;\n",
       "    }\n",
       "\n",
       "    .dataframe tbody tr th {\n",
       "        vertical-align: top;\n",
       "    }\n",
       "\n",
       "    .dataframe thead th {\n",
       "        text-align: right;\n",
       "    }\n",
       "</style>\n",
       "<table border=\"1\" class=\"dataframe\">\n",
       "  <thead>\n",
       "    <tr style=\"text-align: right;\">\n",
       "      <th></th>\n",
       "      <th>business_code</th>\n",
       "      <th>cust_number</th>\n",
       "      <th>name_customer</th>\n",
       "      <th>clear_date</th>\n",
       "      <th>buisness_year</th>\n",
       "      <th>doc_id</th>\n",
       "      <th>posting_date</th>\n",
       "      <th>document_create_date</th>\n",
       "      <th>document_create_date.1</th>\n",
       "      <th>due_in_date</th>\n",
       "      <th>invoice_currency</th>\n",
       "      <th>document type</th>\n",
       "      <th>posting_id</th>\n",
       "      <th>area_business</th>\n",
       "      <th>total_open_amount</th>\n",
       "      <th>baseline_create_date</th>\n",
       "      <th>cust_payment_terms</th>\n",
       "      <th>invoice_id</th>\n",
       "      <th>isOpen</th>\n",
       "    </tr>\n",
       "  </thead>\n",
       "  <tbody>\n",
       "    <tr>\n",
       "      <th>1</th>\n",
       "      <td>U001</td>\n",
       "      <td>0200743123</td>\n",
       "      <td>KROGER co</td>\n",
       "      <td>NaN</td>\n",
       "      <td>2020.0</td>\n",
       "      <td>1.930675e+09</td>\n",
       "      <td>2020-03-20</td>\n",
       "      <td>20200320</td>\n",
       "      <td>20200320</td>\n",
       "      <td>20200404.0</td>\n",
       "      <td>USD</td>\n",
       "      <td>RV</td>\n",
       "      <td>1.0</td>\n",
       "      <td>NaN</td>\n",
       "      <td>12901.28</td>\n",
       "      <td>20200320.0</td>\n",
       "      <td>NAA8</td>\n",
       "      <td>1.930675e+09</td>\n",
       "      <td>1</td>\n",
       "    </tr>\n",
       "    <tr>\n",
       "      <th>11</th>\n",
       "      <td>CA02</td>\n",
       "      <td>0140104409</td>\n",
       "      <td>LOB foundation</td>\n",
       "      <td>NaN</td>\n",
       "      <td>2020.0</td>\n",
       "      <td>2.960623e+09</td>\n",
       "      <td>2020-03-22</td>\n",
       "      <td>20200322</td>\n",
       "      <td>20200322</td>\n",
       "      <td>20200404.0</td>\n",
       "      <td>CAD</td>\n",
       "      <td>RV</td>\n",
       "      <td>1.0</td>\n",
       "      <td>NaN</td>\n",
       "      <td>127991.65</td>\n",
       "      <td>20200325.0</td>\n",
       "      <td>CA10</td>\n",
       "      <td>2.960623e+09</td>\n",
       "      <td>1</td>\n",
       "    </tr>\n",
       "    <tr>\n",
       "      <th>19</th>\n",
       "      <td>U001</td>\n",
       "      <td>0200769623</td>\n",
       "      <td>WAL-MAR corporation</td>\n",
       "      <td>NaN</td>\n",
       "      <td>2020.0</td>\n",
       "      <td>1.930760e+09</td>\n",
       "      <td>2020-04-09</td>\n",
       "      <td>20200407</td>\n",
       "      <td>20200409</td>\n",
       "      <td>20200424.0</td>\n",
       "      <td>USD</td>\n",
       "      <td>RV</td>\n",
       "      <td>1.0</td>\n",
       "      <td>NaN</td>\n",
       "      <td>8972.85</td>\n",
       "      <td>20200409.0</td>\n",
       "      <td>NAH4</td>\n",
       "      <td>1.930760e+09</td>\n",
       "      <td>1</td>\n",
       "    </tr>\n",
       "    <tr>\n",
       "      <th>22</th>\n",
       "      <td>U001</td>\n",
       "      <td>0200793568</td>\n",
       "      <td>SUPE</td>\n",
       "      <td>NaN</td>\n",
       "      <td>2020.0</td>\n",
       "      <td>1.930898e+09</td>\n",
       "      <td>2020-05-13</td>\n",
       "      <td>20200513</td>\n",
       "      <td>20200513</td>\n",
       "      <td>20200528.0</td>\n",
       "      <td>USD</td>\n",
       "      <td>RV</td>\n",
       "      <td>1.0</td>\n",
       "      <td>NaN</td>\n",
       "      <td>3135.35</td>\n",
       "      <td>20200513.0</td>\n",
       "      <td>NAA8</td>\n",
       "      <td>1.930898e+09</td>\n",
       "      <td>1</td>\n",
       "    </tr>\n",
       "    <tr>\n",
       "      <th>24</th>\n",
       "      <td>U001</td>\n",
       "      <td>0200707822</td>\n",
       "      <td>PUBLI llc</td>\n",
       "      <td>NaN</td>\n",
       "      <td>2020.0</td>\n",
       "      <td>1.930856e+09</td>\n",
       "      <td>2020-05-05</td>\n",
       "      <td>20200503</td>\n",
       "      <td>20200505</td>\n",
       "      <td>20200520.0</td>\n",
       "      <td>USD</td>\n",
       "      <td>RV</td>\n",
       "      <td>1.0</td>\n",
       "      <td>NaN</td>\n",
       "      <td>135999.41</td>\n",
       "      <td>20200505.0</td>\n",
       "      <td>NAA8</td>\n",
       "      <td>1.930856e+09</td>\n",
       "      <td>1</td>\n",
       "    </tr>\n",
       "  </tbody>\n",
       "</table>\n",
       "</div>"
      ],
      "text/plain": [
       "   business_code cust_number        name_customer clear_date  buisness_year  \\\n",
       "1           U001  0200743123            KROGER co        NaN         2020.0   \n",
       "11          CA02  0140104409       LOB foundation        NaN         2020.0   \n",
       "19          U001  0200769623  WAL-MAR corporation        NaN         2020.0   \n",
       "22          U001  0200793568                SUPE         NaN         2020.0   \n",
       "24          U001  0200707822            PUBLI llc        NaN         2020.0   \n",
       "\n",
       "          doc_id posting_date  document_create_date  document_create_date.1  \\\n",
       "1   1.930675e+09   2020-03-20              20200320                20200320   \n",
       "11  2.960623e+09   2020-03-22              20200322                20200322   \n",
       "19  1.930760e+09   2020-04-09              20200407                20200409   \n",
       "22  1.930898e+09   2020-05-13              20200513                20200513   \n",
       "24  1.930856e+09   2020-05-05              20200503                20200505   \n",
       "\n",
       "    due_in_date invoice_currency document type  posting_id  area_business  \\\n",
       "1    20200404.0              USD            RV         1.0            NaN   \n",
       "11   20200404.0              CAD            RV         1.0            NaN   \n",
       "19   20200424.0              USD            RV         1.0            NaN   \n",
       "22   20200528.0              USD            RV         1.0            NaN   \n",
       "24   20200520.0              USD            RV         1.0            NaN   \n",
       "\n",
       "    total_open_amount  baseline_create_date cust_payment_terms    invoice_id  \\\n",
       "1            12901.28            20200320.0               NAA8  1.930675e+09   \n",
       "11          127991.65            20200325.0               CA10  2.960623e+09   \n",
       "19            8972.85            20200409.0               NAH4  1.930760e+09   \n",
       "22            3135.35            20200513.0               NAA8  1.930898e+09   \n",
       "24          135999.41            20200505.0               NAA8  1.930856e+09   \n",
       "\n",
       "    isOpen  \n",
       "1        1  \n",
       "11       1  \n",
       "19       1  \n",
       "22       1  \n",
       "24       1  "
      ]
     },
     "execution_count": 217,
     "metadata": {},
     "output_type": "execute_result"
    }
   ],
   "source": [
    "t.head()"
   ]
  },
  {
   "cell_type": "markdown",
   "id": "8f5cca70",
   "metadata": {},
   "source": [
    "## PERFORMING SAME STEPS ON THE DATASET WITH NULL VALUES"
   ]
  },
  {
   "cell_type": "markdown",
   "id": "f1a88265",
   "metadata": {},
   "source": [
    "## DATA PRE PROCESSING"
   ]
  },
  {
   "cell_type": "code",
   "execution_count": 218,
   "id": "6af87a58",
   "metadata": {},
   "outputs": [
    {
     "name": "stdout",
     "output_type": "stream",
     "text": [
      "['buisness_year', 'document type', 'posting_id', 'isOpen']\n"
     ]
    }
   ],
   "source": [
    "#REMOVING CONSTANT COLUMNS\n",
    "unq_columns= [x for x in t.columns if t[x].nunique()==1] \n",
    "print(unq_columns)"
   ]
  },
  {
   "cell_type": "code",
   "execution_count": 219,
   "id": "1213ddf7",
   "metadata": {},
   "outputs": [],
   "source": [
    "t.drop([\"document type\",'posting_id','isOpen'],axis=1,inplace=True)"
   ]
  },
  {
   "cell_type": "code",
   "execution_count": 220,
   "id": "bb34cd53",
   "metadata": {},
   "outputs": [],
   "source": [
    "#REMOVING DUPLICATES\n",
    "t = t.drop_duplicates()"
   ]
  },
  {
   "cell_type": "code",
   "execution_count": 221,
   "id": "55644a53",
   "metadata": {},
   "outputs": [],
   "source": [
    "t = dtf.append(t)"
   ]
  },
  {
   "cell_type": "code",
   "execution_count": 222,
   "id": "0a904656",
   "metadata": {},
   "outputs": [],
   "source": [
    "from sklearn.preprocessing import LabelEncoder\n",
    "Business_encoder = LabelEncoder()\n",
    "Business_encoder.fit(t['business_code'])\n",
    "t['business_code_enc'] = Business_encoder.transform(t['business_code'])\n",
    "Custnum_encoder = LabelEncoder()\n",
    "Custnum_encoder.fit(t['cust_number'])\n",
    "t['cust_number_enc'] = Custnum_encoder.transform(t['cust_number'])\n",
    "Custname_encoder = LabelEncoder()\n",
    "Custname_encoder.fit(t['name_customer'])\n",
    "t['name_customer_enc'] = Custname_encoder.transform(t['name_customer'])\n",
    "Custname_pay_encoder = LabelEncoder()\n",
    "Custname_pay_encoder.fit(t['cust_payment_terms'])\n",
    "t['cust_payment_terms_enc'] = Custname_pay_encoder.transform(t['cust_payment_terms'])"
   ]
  },
  {
   "cell_type": "code",
   "execution_count": 223,
   "id": "d4d699fb",
   "metadata": {},
   "outputs": [],
   "source": [
    "t1=t[t['clear_date'].isnull()]"
   ]
  },
  {
   "cell_type": "code",
   "execution_count": 224,
   "id": "16ae8eab",
   "metadata": {},
   "outputs": [],
   "source": [
    "t1.drop(['delay','clear_date','doc_id','document_create_date','document_create_date.1','invoice_currency','area_business','baseline_create_date','cust_payment_terms','invoice_id','business_code','cust_number','name_customer','name_customer_enc'],axis=1,inplace=True)"
   ]
  },
  {
   "cell_type": "code",
   "execution_count": 225,
   "id": "bdb97f15",
   "metadata": {},
   "outputs": [],
   "source": [
    "import datetime\n",
    "t1['due_in_date'] =  pd.to_datetime(t1['due_in_date'], format = '%Y%m%d')\n",
    "t1['posting_date'] =  pd.to_datetime(t1['posting_date'])\n",
    "\n",
    "due_date = t1['due_in_date'].copy()"
   ]
  },
  {
   "cell_type": "markdown",
   "id": "59047e10",
   "metadata": {},
   "source": [
    "## FEATURE ENGINEERING"
   ]
  },
  {
   "cell_type": "markdown",
   "id": "4a5d3d6e",
   "metadata": {},
   "source": [
    "### Extracting Features"
   ]
  },
  {
   "cell_type": "code",
   "execution_count": 226,
   "id": "2c443c37",
   "metadata": {},
   "outputs": [],
   "source": [
    "t1['pos_day']=t1['posting_date'].dt.day\n",
    "t1['pos_month']=t1['posting_date'].dt.month\n",
    "t1['pos_year']=t1['posting_date'].dt.year"
   ]
  },
  {
   "cell_type": "code",
   "execution_count": 227,
   "id": "1fcdefd9",
   "metadata": {},
   "outputs": [],
   "source": [
    "t1['due_day']=t1['due_in_date'].dt.day\n",
    "t1['due_month']=t1['due_in_date'].dt.month\n",
    "t1['due_year']=t1['due_in_date'].dt.year"
   ]
  },
  {
   "cell_type": "code",
   "execution_count": 228,
   "id": "b39994f8",
   "metadata": {},
   "outputs": [],
   "source": [
    "t1.drop(['posting_date','due_in_date','business_code_enc','pos_day','pos_month','due_month','due_year'],axis=1,inplace=True)"
   ]
  },
  {
   "cell_type": "code",
   "execution_count": 229,
   "id": "4ec3b6ed",
   "metadata": {},
   "outputs": [
    {
     "data": {
      "text/html": [
       "<div>\n",
       "<style scoped>\n",
       "    .dataframe tbody tr th:only-of-type {\n",
       "        vertical-align: middle;\n",
       "    }\n",
       "\n",
       "    .dataframe tbody tr th {\n",
       "        vertical-align: top;\n",
       "    }\n",
       "\n",
       "    .dataframe thead th {\n",
       "        text-align: right;\n",
       "    }\n",
       "</style>\n",
       "<table border=\"1\" class=\"dataframe\">\n",
       "  <thead>\n",
       "    <tr style=\"text-align: right;\">\n",
       "      <th></th>\n",
       "      <th>buisness_year</th>\n",
       "      <th>total_open_amount</th>\n",
       "      <th>cust_number_enc</th>\n",
       "      <th>cust_payment_terms_enc</th>\n",
       "      <th>pos_year</th>\n",
       "      <th>due_day</th>\n",
       "    </tr>\n",
       "  </thead>\n",
       "  <tbody>\n",
       "    <tr>\n",
       "      <th>1</th>\n",
       "      <td>2020.0</td>\n",
       "      <td>12901.28</td>\n",
       "      <td>380</td>\n",
       "      <td>22</td>\n",
       "      <td>2020</td>\n",
       "      <td>4</td>\n",
       "    </tr>\n",
       "    <tr>\n",
       "      <th>11</th>\n",
       "      <td>2020.0</td>\n",
       "      <td>127991.65</td>\n",
       "      <td>151</td>\n",
       "      <td>7</td>\n",
       "      <td>2020</td>\n",
       "      <td>4</td>\n",
       "    </tr>\n",
       "    <tr>\n",
       "      <th>19</th>\n",
       "      <td>2020.0</td>\n",
       "      <td>8972.85</td>\n",
       "      <td>422</td>\n",
       "      <td>37</td>\n",
       "      <td>2020</td>\n",
       "      <td>24</td>\n",
       "    </tr>\n",
       "    <tr>\n",
       "      <th>22</th>\n",
       "      <td>2020.0</td>\n",
       "      <td>3135.35</td>\n",
       "      <td>478</td>\n",
       "      <td>22</td>\n",
       "      <td>2020</td>\n",
       "      <td>28</td>\n",
       "    </tr>\n",
       "    <tr>\n",
       "      <th>24</th>\n",
       "      <td>2020.0</td>\n",
       "      <td>135999.41</td>\n",
       "      <td>327</td>\n",
       "      <td>22</td>\n",
       "      <td>2020</td>\n",
       "      <td>20</td>\n",
       "    </tr>\n",
       "  </tbody>\n",
       "</table>\n",
       "</div>"
      ],
      "text/plain": [
       "    buisness_year  total_open_amount  cust_number_enc  cust_payment_terms_enc  \\\n",
       "1          2020.0           12901.28              380                      22   \n",
       "11         2020.0          127991.65              151                       7   \n",
       "19         2020.0            8972.85              422                      37   \n",
       "22         2020.0            3135.35              478                      22   \n",
       "24         2020.0          135999.41              327                      22   \n",
       "\n",
       "    pos_year  due_day  \n",
       "1       2020        4  \n",
       "11      2020        4  \n",
       "19      2020       24  \n",
       "22      2020       28  \n",
       "24      2020       20  "
      ]
     },
     "execution_count": 229,
     "metadata": {},
     "output_type": "execute_result"
    }
   ],
   "source": [
    "t1.head()"
   ]
  },
  {
   "cell_type": "markdown",
   "id": "aa05fd4d",
   "metadata": {},
   "source": [
    "## PASSING TO THE MODEL,i.e, XG BOOST"
   ]
  },
  {
   "cell_type": "code",
   "execution_count": 230,
   "id": "77811665",
   "metadata": {},
   "outputs": [],
   "source": [
    "alf = xgb.XGBRegressor()\n",
    "alf.fit(X_train, y_train)\n",
    "predicted = clf.predict(t1)"
   ]
  },
  {
   "cell_type": "code",
   "execution_count": 231,
   "id": "25920b82",
   "metadata": {},
   "outputs": [
    {
     "name": "stdout",
     "output_type": "stream",
     "text": [
      "[-10.851625    3.8248713   3.4027727 ...  -8.741492  -12.938201\n",
      "  11.634505 ]\n"
     ]
    },
    {
     "data": {
      "text/plain": [
       "(9687,)"
      ]
     },
     "execution_count": 231,
     "metadata": {},
     "output_type": "execute_result"
    }
   ],
   "source": [
    "print(predicted)\n",
    "predicted.shape"
   ]
  },
  {
   "cell_type": "code",
   "execution_count": 232,
   "id": "f5f6e8e8",
   "metadata": {},
   "outputs": [],
   "source": [
    "delay = pd.Series(predicted,name='delay')"
   ]
  },
  {
   "cell_type": "markdown",
   "id": "5677fc02",
   "metadata": {},
   "source": [
    "ROUNDING OFF TO THE NEAREST VALUES"
   ]
  },
  {
   "cell_type": "code",
   "execution_count": 233,
   "id": "07140855",
   "metadata": {},
   "outputs": [
    {
     "data": {
      "text/plain": [
       "0      -11.0\n",
       "1        4.0\n",
       "2        3.0\n",
       "3      -13.0\n",
       "4      -12.0\n",
       "        ... \n",
       "9682     4.0\n",
       "9683   -12.0\n",
       "9684    -9.0\n",
       "9685   -13.0\n",
       "9686    12.0\n",
       "Name: delay, Length: 9687, dtype: float32"
      ]
     },
     "execution_count": 233,
     "metadata": {},
     "output_type": "execute_result"
    }
   ],
   "source": [
    "delay.round(decimals=0)"
   ]
  },
  {
   "cell_type": "code",
   "execution_count": 234,
   "id": "d07065b6",
   "metadata": {},
   "outputs": [],
   "source": [
    "delay= delay.astype(int)"
   ]
  },
  {
   "cell_type": "code",
   "execution_count": 235,
   "id": "67dc142b",
   "metadata": {},
   "outputs": [],
   "source": [
    "delay=pd.Series(delay)"
   ]
  },
  {
   "cell_type": "code",
   "execution_count": 236,
   "id": "0d3758e0",
   "metadata": {},
   "outputs": [],
   "source": [
    "t1=t1.reset_index(drop=True)\n",
    "t1['Delay']=delay"
   ]
  },
  {
   "cell_type": "markdown",
   "id": "9af0cf85",
   "metadata": {},
   "source": [
    "# PERFORMING BUCKETIZATION"
   ]
  },
  {
   "cell_type": "code",
   "execution_count": 237,
   "id": "dce69e60",
   "metadata": {},
   "outputs": [],
   "source": [
    "DIC_M= dict.fromkeys([0,1, 2, 3,4,5,6,7,8,9,10,11,12,13,14,15], '0-15 days')\n",
    "DIC_M.update(dict.fromkeys([16,17,18,19,20,21,22,23,24,25,26,27,28,29,30],'16-30 days'))\n",
    "def creList(r1, r2):\n",
    "    return list(range(r1, r2+1))\n",
    "      \n",
    "DIC_M.update(dict.fromkeys(creList(-250,-1),'<0 days'))\n",
    "DIC_M.update(dict.fromkeys(creList(31,45),'31-45 days'))\n",
    "DIC_M.update(dict.fromkeys(creList(46,60),'46-60 days'))\n",
    "DIC_M.update(dict.fromkeys(creList(60,365),'>60 days'))\n",
    "t1[\"DAYS_BUCKET\"]=t1[\"Delay\"].replace(DIC_M)"
   ]
  },
  {
   "cell_type": "markdown",
   "id": "6c6eed6c",
   "metadata": {},
   "source": [
    "# PREDICTION OF CLEAR DATE"
   ]
  },
  {
   "cell_type": "code",
   "execution_count": 238,
   "id": "81a57cdc",
   "metadata": {},
   "outputs": [
    {
     "data": {
      "text/plain": [
       "(9687, 9)"
      ]
     },
     "execution_count": 238,
     "metadata": {},
     "output_type": "execute_result"
    }
   ],
   "source": [
    "due_date=due_date.reset_index(drop=True)\n",
    "t1['PREDICTED_Cleardate']=due_date+pd.to_timedelta(t1['Delay'],unit='d')\n",
    "t1.shape"
   ]
  },
  {
   "cell_type": "code",
   "execution_count": 239,
   "id": "01e69451",
   "metadata": {},
   "outputs": [],
   "source": [
    "t1['due_date']=due_date"
   ]
  },
  {
   "cell_type": "code",
   "execution_count": 240,
   "id": "c2dbdff9",
   "metadata": {},
   "outputs": [],
   "source": [
    "t1 = t1[['buisness_year','total_open_amount','cust_number_enc','cust_payment_terms_enc','pos_year','due_day','due_date', 'Delay', 'PREDICTED_Cleardate','DAYS_BUCKET',]]"
   ]
  },
  {
   "cell_type": "markdown",
   "id": "ce77e812",
   "metadata": {},
   "source": [
    "# FINAL RESULT"
   ]
  },
  {
   "cell_type": "code",
   "execution_count": 241,
   "id": "356fef15",
   "metadata": {},
   "outputs": [
    {
     "data": {
      "text/html": [
       "<div>\n",
       "<style scoped>\n",
       "    .dataframe tbody tr th:only-of-type {\n",
       "        vertical-align: middle;\n",
       "    }\n",
       "\n",
       "    .dataframe tbody tr th {\n",
       "        vertical-align: top;\n",
       "    }\n",
       "\n",
       "    .dataframe thead th {\n",
       "        text-align: right;\n",
       "    }\n",
       "</style>\n",
       "<table border=\"1\" class=\"dataframe\">\n",
       "  <thead>\n",
       "    <tr style=\"text-align: right;\">\n",
       "      <th></th>\n",
       "      <th>buisness_year</th>\n",
       "      <th>total_open_amount</th>\n",
       "      <th>cust_number_enc</th>\n",
       "      <th>cust_payment_terms_enc</th>\n",
       "      <th>pos_year</th>\n",
       "      <th>due_day</th>\n",
       "      <th>due_date</th>\n",
       "      <th>Delay</th>\n",
       "      <th>PREDICTED_Cleardate</th>\n",
       "      <th>DAYS_BUCKET</th>\n",
       "    </tr>\n",
       "  </thead>\n",
       "  <tbody>\n",
       "    <tr>\n",
       "      <th>0</th>\n",
       "      <td>2020.0</td>\n",
       "      <td>12901.28</td>\n",
       "      <td>380</td>\n",
       "      <td>22</td>\n",
       "      <td>2020</td>\n",
       "      <td>4</td>\n",
       "      <td>2020-04-04</td>\n",
       "      <td>-10</td>\n",
       "      <td>2020-03-25</td>\n",
       "      <td>&lt;0 days</td>\n",
       "    </tr>\n",
       "    <tr>\n",
       "      <th>1</th>\n",
       "      <td>2020.0</td>\n",
       "      <td>127991.65</td>\n",
       "      <td>151</td>\n",
       "      <td>7</td>\n",
       "      <td>2020</td>\n",
       "      <td>4</td>\n",
       "      <td>2020-04-04</td>\n",
       "      <td>3</td>\n",
       "      <td>2020-04-07</td>\n",
       "      <td>0-15 days</td>\n",
       "    </tr>\n",
       "    <tr>\n",
       "      <th>2</th>\n",
       "      <td>2020.0</td>\n",
       "      <td>8972.85</td>\n",
       "      <td>422</td>\n",
       "      <td>37</td>\n",
       "      <td>2020</td>\n",
       "      <td>24</td>\n",
       "      <td>2020-04-24</td>\n",
       "      <td>3</td>\n",
       "      <td>2020-04-27</td>\n",
       "      <td>0-15 days</td>\n",
       "    </tr>\n",
       "    <tr>\n",
       "      <th>3</th>\n",
       "      <td>2020.0</td>\n",
       "      <td>3135.35</td>\n",
       "      <td>478</td>\n",
       "      <td>22</td>\n",
       "      <td>2020</td>\n",
       "      <td>28</td>\n",
       "      <td>2020-05-28</td>\n",
       "      <td>-12</td>\n",
       "      <td>2020-05-16</td>\n",
       "      <td>&lt;0 days</td>\n",
       "    </tr>\n",
       "    <tr>\n",
       "      <th>4</th>\n",
       "      <td>2020.0</td>\n",
       "      <td>135999.41</td>\n",
       "      <td>327</td>\n",
       "      <td>22</td>\n",
       "      <td>2020</td>\n",
       "      <td>20</td>\n",
       "      <td>2020-05-20</td>\n",
       "      <td>-11</td>\n",
       "      <td>2020-05-09</td>\n",
       "      <td>&lt;0 days</td>\n",
       "    </tr>\n",
       "    <tr>\n",
       "      <th>5</th>\n",
       "      <td>2020.0</td>\n",
       "      <td>892.44</td>\n",
       "      <td>422</td>\n",
       "      <td>37</td>\n",
       "      <td>2020</td>\n",
       "      <td>22</td>\n",
       "      <td>2020-04-22</td>\n",
       "      <td>3</td>\n",
       "      <td>2020-04-25</td>\n",
       "      <td>0-15 days</td>\n",
       "    </tr>\n",
       "    <tr>\n",
       "      <th>6</th>\n",
       "      <td>2020.0</td>\n",
       "      <td>1453.58</td>\n",
       "      <td>426</td>\n",
       "      <td>36</td>\n",
       "      <td>2020</td>\n",
       "      <td>5</td>\n",
       "      <td>2020-05-05</td>\n",
       "      <td>3</td>\n",
       "      <td>2020-05-08</td>\n",
       "      <td>0-15 days</td>\n",
       "    </tr>\n",
       "    <tr>\n",
       "      <th>7</th>\n",
       "      <td>2020.0</td>\n",
       "      <td>38698.27</td>\n",
       "      <td>480</td>\n",
       "      <td>24</td>\n",
       "      <td>2020</td>\n",
       "      <td>19</td>\n",
       "      <td>2020-04-19</td>\n",
       "      <td>0</td>\n",
       "      <td>2020-04-19</td>\n",
       "      <td>0-15 days</td>\n",
       "    </tr>\n",
       "    <tr>\n",
       "      <th>8</th>\n",
       "      <td>2020.0</td>\n",
       "      <td>13953.76</td>\n",
       "      <td>527</td>\n",
       "      <td>22</td>\n",
       "      <td>2020</td>\n",
       "      <td>26</td>\n",
       "      <td>2020-03-26</td>\n",
       "      <td>-8</td>\n",
       "      <td>2020-03-18</td>\n",
       "      <td>&lt;0 days</td>\n",
       "    </tr>\n",
       "    <tr>\n",
       "      <th>9</th>\n",
       "      <td>2020.0</td>\n",
       "      <td>10839.12</td>\n",
       "      <td>242</td>\n",
       "      <td>41</td>\n",
       "      <td>2020</td>\n",
       "      <td>8</td>\n",
       "      <td>2020-04-08</td>\n",
       "      <td>4</td>\n",
       "      <td>2020-04-12</td>\n",
       "      <td>0-15 days</td>\n",
       "    </tr>\n",
       "    <tr>\n",
       "      <th>10</th>\n",
       "      <td>2020.0</td>\n",
       "      <td>17679.45</td>\n",
       "      <td>422</td>\n",
       "      <td>37</td>\n",
       "      <td>2020</td>\n",
       "      <td>21</td>\n",
       "      <td>2020-05-21</td>\n",
       "      <td>3</td>\n",
       "      <td>2020-05-24</td>\n",
       "      <td>0-15 days</td>\n",
       "    </tr>\n",
       "    <tr>\n",
       "      <th>11</th>\n",
       "      <td>2020.0</td>\n",
       "      <td>661.11</td>\n",
       "      <td>651</td>\n",
       "      <td>37</td>\n",
       "      <td>2020</td>\n",
       "      <td>22</td>\n",
       "      <td>2020-04-22</td>\n",
       "      <td>1</td>\n",
       "      <td>2020-04-23</td>\n",
       "      <td>0-15 days</td>\n",
       "    </tr>\n",
       "    <tr>\n",
       "      <th>12</th>\n",
       "      <td>2020.0</td>\n",
       "      <td>25599.42</td>\n",
       "      <td>422</td>\n",
       "      <td>37</td>\n",
       "      <td>2020</td>\n",
       "      <td>18</td>\n",
       "      <td>2020-05-18</td>\n",
       "      <td>4</td>\n",
       "      <td>2020-05-22</td>\n",
       "      <td>0-15 days</td>\n",
       "    </tr>\n",
       "    <tr>\n",
       "      <th>13</th>\n",
       "      <td>2020.0</td>\n",
       "      <td>11005.54</td>\n",
       "      <td>326</td>\n",
       "      <td>22</td>\n",
       "      <td>2020</td>\n",
       "      <td>15</td>\n",
       "      <td>2020-04-15</td>\n",
       "      <td>-7</td>\n",
       "      <td>2020-04-08</td>\n",
       "      <td>&lt;0 days</td>\n",
       "    </tr>\n",
       "    <tr>\n",
       "      <th>14</th>\n",
       "      <td>2020.0</td>\n",
       "      <td>3174.11</td>\n",
       "      <td>422</td>\n",
       "      <td>37</td>\n",
       "      <td>2020</td>\n",
       "      <td>9</td>\n",
       "      <td>2020-05-09</td>\n",
       "      <td>3</td>\n",
       "      <td>2020-05-12</td>\n",
       "      <td>0-15 days</td>\n",
       "    </tr>\n",
       "    <tr>\n",
       "      <th>15</th>\n",
       "      <td>2020.0</td>\n",
       "      <td>11854.42</td>\n",
       "      <td>422</td>\n",
       "      <td>37</td>\n",
       "      <td>2020</td>\n",
       "      <td>18</td>\n",
       "      <td>2020-05-18</td>\n",
       "      <td>4</td>\n",
       "      <td>2020-05-22</td>\n",
       "      <td>0-15 days</td>\n",
       "    </tr>\n",
       "    <tr>\n",
       "      <th>16</th>\n",
       "      <td>2020.0</td>\n",
       "      <td>31128.43</td>\n",
       "      <td>407</td>\n",
       "      <td>27</td>\n",
       "      <td>2020</td>\n",
       "      <td>19</td>\n",
       "      <td>2020-05-19</td>\n",
       "      <td>2</td>\n",
       "      <td>2020-05-21</td>\n",
       "      <td>0-15 days</td>\n",
       "    </tr>\n",
       "    <tr>\n",
       "      <th>17</th>\n",
       "      <td>2020.0</td>\n",
       "      <td>5191.22</td>\n",
       "      <td>303</td>\n",
       "      <td>22</td>\n",
       "      <td>2020</td>\n",
       "      <td>14</td>\n",
       "      <td>2020-05-14</td>\n",
       "      <td>-11</td>\n",
       "      <td>2020-05-03</td>\n",
       "      <td>&lt;0 days</td>\n",
       "    </tr>\n",
       "    <tr>\n",
       "      <th>18</th>\n",
       "      <td>2020.0</td>\n",
       "      <td>661.11</td>\n",
       "      <td>422</td>\n",
       "      <td>37</td>\n",
       "      <td>2020</td>\n",
       "      <td>20</td>\n",
       "      <td>2020-05-20</td>\n",
       "      <td>4</td>\n",
       "      <td>2020-05-24</td>\n",
       "      <td>0-15 days</td>\n",
       "    </tr>\n",
       "    <tr>\n",
       "      <th>19</th>\n",
       "      <td>2020.0</td>\n",
       "      <td>39004.73</td>\n",
       "      <td>325</td>\n",
       "      <td>22</td>\n",
       "      <td>2020</td>\n",
       "      <td>1</td>\n",
       "      <td>2020-04-01</td>\n",
       "      <td>-12</td>\n",
       "      <td>2020-03-20</td>\n",
       "      <td>&lt;0 days</td>\n",
       "    </tr>\n",
       "    <tr>\n",
       "      <th>20</th>\n",
       "      <td>2020.0</td>\n",
       "      <td>101674.45</td>\n",
       "      <td>325</td>\n",
       "      <td>22</td>\n",
       "      <td>2020</td>\n",
       "      <td>19</td>\n",
       "      <td>2020-05-19</td>\n",
       "      <td>-10</td>\n",
       "      <td>2020-05-09</td>\n",
       "      <td>&lt;0 days</td>\n",
       "    </tr>\n",
       "    <tr>\n",
       "      <th>21</th>\n",
       "      <td>2020.0</td>\n",
       "      <td>532.37</td>\n",
       "      <td>413</td>\n",
       "      <td>22</td>\n",
       "      <td>2020</td>\n",
       "      <td>14</td>\n",
       "      <td>2020-05-14</td>\n",
       "      <td>-13</td>\n",
       "      <td>2020-05-01</td>\n",
       "      <td>&lt;0 days</td>\n",
       "    </tr>\n",
       "    <tr>\n",
       "      <th>22</th>\n",
       "      <td>2020.0</td>\n",
       "      <td>17249.89</td>\n",
       "      <td>480</td>\n",
       "      <td>24</td>\n",
       "      <td>2020</td>\n",
       "      <td>22</td>\n",
       "      <td>2020-04-22</td>\n",
       "      <td>0</td>\n",
       "      <td>2020-04-22</td>\n",
       "      <td>0-15 days</td>\n",
       "    </tr>\n",
       "    <tr>\n",
       "      <th>23</th>\n",
       "      <td>2020.0</td>\n",
       "      <td>1898.20</td>\n",
       "      <td>422</td>\n",
       "      <td>37</td>\n",
       "      <td>2020</td>\n",
       "      <td>20</td>\n",
       "      <td>2020-03-20</td>\n",
       "      <td>3</td>\n",
       "      <td>2020-03-23</td>\n",
       "      <td>0-15 days</td>\n",
       "    </tr>\n",
       "    <tr>\n",
       "      <th>24</th>\n",
       "      <td>2020.0</td>\n",
       "      <td>1079.75</td>\n",
       "      <td>47</td>\n",
       "      <td>22</td>\n",
       "      <td>2020</td>\n",
       "      <td>2</td>\n",
       "      <td>2020-04-02</td>\n",
       "      <td>-8</td>\n",
       "      <td>2020-03-25</td>\n",
       "      <td>&lt;0 days</td>\n",
       "    </tr>\n",
       "  </tbody>\n",
       "</table>\n",
       "</div>"
      ],
      "text/plain": [
       "    buisness_year  total_open_amount  cust_number_enc  cust_payment_terms_enc  \\\n",
       "0          2020.0           12901.28              380                      22   \n",
       "1          2020.0          127991.65              151                       7   \n",
       "2          2020.0            8972.85              422                      37   \n",
       "3          2020.0            3135.35              478                      22   \n",
       "4          2020.0          135999.41              327                      22   \n",
       "5          2020.0             892.44              422                      37   \n",
       "6          2020.0            1453.58              426                      36   \n",
       "7          2020.0           38698.27              480                      24   \n",
       "8          2020.0           13953.76              527                      22   \n",
       "9          2020.0           10839.12              242                      41   \n",
       "10         2020.0           17679.45              422                      37   \n",
       "11         2020.0             661.11              651                      37   \n",
       "12         2020.0           25599.42              422                      37   \n",
       "13         2020.0           11005.54              326                      22   \n",
       "14         2020.0            3174.11              422                      37   \n",
       "15         2020.0           11854.42              422                      37   \n",
       "16         2020.0           31128.43              407                      27   \n",
       "17         2020.0            5191.22              303                      22   \n",
       "18         2020.0             661.11              422                      37   \n",
       "19         2020.0           39004.73              325                      22   \n",
       "20         2020.0          101674.45              325                      22   \n",
       "21         2020.0             532.37              413                      22   \n",
       "22         2020.0           17249.89              480                      24   \n",
       "23         2020.0            1898.20              422                      37   \n",
       "24         2020.0            1079.75               47                      22   \n",
       "\n",
       "    pos_year  due_day   due_date  Delay PREDICTED_Cleardate DAYS_BUCKET  \n",
       "0       2020        4 2020-04-04    -10          2020-03-25     <0 days  \n",
       "1       2020        4 2020-04-04      3          2020-04-07   0-15 days  \n",
       "2       2020       24 2020-04-24      3          2020-04-27   0-15 days  \n",
       "3       2020       28 2020-05-28    -12          2020-05-16     <0 days  \n",
       "4       2020       20 2020-05-20    -11          2020-05-09     <0 days  \n",
       "5       2020       22 2020-04-22      3          2020-04-25   0-15 days  \n",
       "6       2020        5 2020-05-05      3          2020-05-08   0-15 days  \n",
       "7       2020       19 2020-04-19      0          2020-04-19   0-15 days  \n",
       "8       2020       26 2020-03-26     -8          2020-03-18     <0 days  \n",
       "9       2020        8 2020-04-08      4          2020-04-12   0-15 days  \n",
       "10      2020       21 2020-05-21      3          2020-05-24   0-15 days  \n",
       "11      2020       22 2020-04-22      1          2020-04-23   0-15 days  \n",
       "12      2020       18 2020-05-18      4          2020-05-22   0-15 days  \n",
       "13      2020       15 2020-04-15     -7          2020-04-08     <0 days  \n",
       "14      2020        9 2020-05-09      3          2020-05-12   0-15 days  \n",
       "15      2020       18 2020-05-18      4          2020-05-22   0-15 days  \n",
       "16      2020       19 2020-05-19      2          2020-05-21   0-15 days  \n",
       "17      2020       14 2020-05-14    -11          2020-05-03     <0 days  \n",
       "18      2020       20 2020-05-20      4          2020-05-24   0-15 days  \n",
       "19      2020        1 2020-04-01    -12          2020-03-20     <0 days  \n",
       "20      2020       19 2020-05-19    -10          2020-05-09     <0 days  \n",
       "21      2020       14 2020-05-14    -13          2020-05-01     <0 days  \n",
       "22      2020       22 2020-04-22      0          2020-04-22   0-15 days  \n",
       "23      2020       20 2020-03-20      3          2020-03-23   0-15 days  \n",
       "24      2020        2 2020-04-02     -8          2020-03-25     <0 days  "
      ]
     },
     "execution_count": 241,
     "metadata": {},
     "output_type": "execute_result"
    }
   ],
   "source": [
    "t1.head(25)"
   ]
  },
  {
   "cell_type": "code",
   "execution_count": null,
   "id": "dd5ba3eb",
   "metadata": {},
   "outputs": [],
   "source": []
  }
 ],
 "metadata": {
  "kernelspec": {
   "display_name": "Python 3",
   "language": "python",
   "name": "python3"
  },
  "language_info": {
   "codemirror_mode": {
    "name": "ipython",
    "version": 3
   },
   "file_extension": ".py",
   "mimetype": "text/x-python",
   "name": "python",
   "nbconvert_exporter": "python",
   "pygments_lexer": "ipython3",
   "version": "3.7.7"
  }
 },
 "nbformat": 4,
 "nbformat_minor": 5
}
